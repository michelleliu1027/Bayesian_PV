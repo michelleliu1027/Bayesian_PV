{
 "cells": [
  {
   "cell_type": "code",
   "execution_count": 4,
   "id": "b2bc2bc7",
   "metadata": {},
   "outputs": [],
   "source": [
    "import numpy\n",
    "\n",
    "\n",
    "class Basis(object):\n",
    "    pass\n",
    "\n",
    "\n",
    "class BasisCst(Basis):\n",
    "\n",
    "    def __call__(self, X):\n",
    "        return numpy.ones((X.shape[0], 1))\n",
    "\n",
    "\n",
    "class BasisLin(Basis):\n",
    "\n",
    "    def __call__(self, X):\n",
    "        return numpy.c_[numpy.ones((X.shape[0],)), X]\n",
    "\n",
    "\n",
    "class BasisQuad(Basis):\n",
    "\n",
    "    def __call__(self, X):\n",
    "        return numpy.c_[numpy.ones((X.shape[0],)), X, X**2]\n"
   ]
  },
  {
   "cell_type": "code",
   "execution_count": 9,
   "id": "59dd7307",
   "metadata": {},
   "outputs": [
    {
     "ename": "SyntaxError",
     "evalue": "invalid syntax (<ipython-input-9-944d328dffd9>, line 20)",
     "output_type": "error",
     "traceback": [
      "\u001b[0;36m  File \u001b[0;32m\"<ipython-input-9-944d328dffd9>\"\u001b[0;36m, line \u001b[0;32m20\u001b[0m\n\u001b[0;31m    except ValueError, e:\u001b[0m\n\u001b[0m                     ^\u001b[0m\n\u001b[0;31mSyntaxError\u001b[0m\u001b[0;31m:\u001b[0m invalid syntax\n"
     ]
    }
   ],
   "source": [
    "import numpy\n",
    "from scipy import linalg\n",
    "def cholpsd(X):\n",
    "    m = numpy.abs(X).min()\n",
    "    m = max(numpy.finfo(float).eps, m * 1e-14)\n",
    "    e = m\n",
    "    I = numpy.eye(X.shape[0])\n",
    "    ok = False\n",
    "    while not ok:\n",
    "        try:\n",
    "            R = linalg.cholesky(X)\n",
    "            ok = True\n",
    "        except linalg.LinAlgError:\n",
    "            # if the Cholesky decomposition failed, try to add a small epsilon\n",
    "            # on the diagonal\n",
    "            X = X + e * I\n",
    "            if e > 1e6 * m:\n",
    "                print('Warning, adding {} for cholpsd'.format(e))\n",
    "            e = 10 * e\n",
    "        except ValueError, e:\n",
    "            print str(e)\n",
    "            import pdb\n",
    "            pdb.set_trace()\n",
    "    return R\n",
    "def solve_chol(R, Y):\n",
    "    return linalg.cho_solve((R, False), Y)\n"
   ]
  },
  {
   "cell_type": "code",
   "execution_count": null,
   "id": "83cebb20",
   "metadata": {},
   "outputs": [],
   "source": []
  }
 ],
 "metadata": {
  "kernelspec": {
   "display_name": "Python 3",
   "language": "python",
   "name": "python3"
  },
  "language_info": {
   "codemirror_mode": {
    "name": "ipython",
    "version": 3
   },
   "file_extension": ".py",
   "mimetype": "text/x-python",
   "name": "python",
   "nbconvert_exporter": "python",
   "pygments_lexer": "ipython3",
   "version": "3.8.10"
  }
 },
 "nbformat": 4,
 "nbformat_minor": 5
}
