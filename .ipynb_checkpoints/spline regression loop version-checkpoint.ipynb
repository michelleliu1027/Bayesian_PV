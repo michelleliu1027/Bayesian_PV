{
 "cells": [
  {
   "cell_type": "markdown",
   "id": "a66ec6a5",
   "metadata": {},
   "source": [
    "# spline Regression(loop version)"
   ]
  },
  {
   "cell_type": "code",
   "execution_count": 82,
   "id": "05347f65",
   "metadata": {},
   "outputs": [],
   "source": [
    "from scipy.interpolate import interp1d\n",
    "import numpy as np\n",
    "import matplotlib.pyplot as plt\n",
    "import pandas as pd\n",
    "from scipy import interpolate"
   ]
  },
  {
   "cell_type": "code",
   "execution_count": 84,
   "id": "aa406e41",
   "metadata": {},
   "outputs": [
    {
     "data": {
      "image/png": "[encoded data removed]",
      "text/plain": [
       "<Figure size 432x288 with 1 Axes>"
      ]
     },
     "metadata": {
      "needs_background": "dark"
     },
     "output_type": "display_data"
    }
   ],
   "source": [
    "#import smooth data sheet at 120 C (time:0~5000s)\n",
    "address = 'data/degradation.xlsx'\n",
    "df = pd.read_excel(address,sheet_name = 'smooth data',usecols = [0],names = None,nrows = 5000)\n",
    "df_li_Time_smooth = df.values.tolist()\n",
    "df = pd.read_excel(address,sheet_name = 'smooth data',usecols = [3],names = None,nrows = 5000)\n",
    "df_li_L_smooth = df.values.tolist()\n",
    "#plot the data\n",
    "plt.figure()\n",
    "plt.plot(df_li_Time_smooth,df_li_L_smooth,'-',color = 'gray')\n",
    "plt.legend(['real result'])\n",
    "plt.tick_params(axis='y', colors = 'white')\n",
    "plt.tick_params(axis='x', colors = 'white')\n",
    "plt.show()"
   ]
  },
  {
   "cell_type": "code",
   "execution_count": 40,
   "id": "dab2c905",
   "metadata": {},
   "outputs": [],
   "source": [
    "#import normal data sheet at 120 C (time:0~5000s) \n",
    "address = 'data/degradation.xlsx'\n",
    "x_normal = []\n",
    "y_normal = []\n",
    "df = pd.read_excel(address,sheet_name = 'normal data',usecols = [0],names = None,nrows = 5000)\n",
    "df_li_Time = df.values.tolist()\n",
    "df = pd.read_excel(address,sheet_name = 'normal data',usecols = [3],names = None,nrows = 5000)\n",
    "df_li_L = df.values.tolist()      "
   ]
  },
  {
   "cell_type": "code",
   "execution_count": 85,
   "id": "736426c8",
   "metadata": {},
   "outputs": [],
   "source": [
    "# randomly select 7 points from normal data\n",
    "x_normal = np.array(df_li_Time).T\n",
    "y_normal = np.array(df_li_L).T \n",
    "x_normal = x.reshape((5000))\n",
    "y_normal = y.reshape((5000))\n",
    "x_random = []\n",
    "y_random = []\n",
    "x_random = x_normal[[0,99,999,1999,2999,3999,4999]]\n",
    "y_random = y_normal[[0,99,999,1999,2999,3999,4999]]"
   ]
  },
  {
   "cell_type": "code",
   "execution_count": 86,
   "id": "53ac2a54",
   "metadata": {},
   "outputs": [
    {
     "ename": "ValueError",
     "evalue": "x must be increasing if s > 0",
     "output_type": "error",
     "traceback": [
      "\u001b[0;31m---------------------------------------------------------------------------\u001b[0m",
      "\u001b[0;31mValueError\u001b[0m                                Traceback (most recent call last)",
      "\u001b[0;32m<ipython-input-86-fca83f84c201>\u001b[0m in \u001b[0;36m<module>\u001b[0;34m\u001b[0m\n\u001b[1;32m      9\u001b[0m \u001b[0;32mwhile\u001b[0m \u001b[0mi\u001b[0m \u001b[0;34m<\u001b[0m\u001b[0;36m5\u001b[0m\u001b[0;34m:\u001b[0m\u001b[0;34m\u001b[0m\u001b[0;34m\u001b[0m\u001b[0m\n\u001b[1;32m     10\u001b[0m     \u001b[0;31m#get the function of spline regression with known data points\u001b[0m\u001b[0;34m\u001b[0m\u001b[0;34m\u001b[0m\u001b[0;34m\u001b[0m\u001b[0m\n\u001b[0;32m---> 11\u001b[0;31m     \u001b[0ms\u001b[0m \u001b[0;34m=\u001b[0m \u001b[0minterpolate\u001b[0m\u001b[0;34m.\u001b[0m\u001b[0mInterpolatedUnivariateSpline\u001b[0m\u001b[0;34m(\u001b[0m\u001b[0mlist_x_loop\u001b[0m\u001b[0;34m,\u001b[0m\u001b[0mlist_y_loop\u001b[0m\u001b[0;34m)\u001b[0m\u001b[0;34m\u001b[0m\u001b[0;34m\u001b[0m\u001b[0m\n\u001b[0m\u001b[1;32m     12\u001b[0m     \u001b[0mx_uni\u001b[0m \u001b[0;34m=\u001b[0m \u001b[0mnp\u001b[0m\u001b[0;34m.\u001b[0m\u001b[0marange\u001b[0m\u001b[0;34m(\u001b[0m\u001b[0;36m0\u001b[0m\u001b[0;34m,\u001b[0m\u001b[0;36m5000\u001b[0m\u001b[0;34m,\u001b[0m\u001b[0;36m1\u001b[0m\u001b[0;34m)\u001b[0m\u001b[0;34m\u001b[0m\u001b[0;34m\u001b[0m\u001b[0m\n\u001b[1;32m     13\u001b[0m     \u001b[0my_uni\u001b[0m \u001b[0;34m=\u001b[0m \u001b[0ms\u001b[0m\u001b[0;34m(\u001b[0m\u001b[0mx_uni\u001b[0m\u001b[0;34m)\u001b[0m \u001b[0;31m# get all the y value  (0~5000) based on the regession function\u001b[0m\u001b[0;34m\u001b[0m\u001b[0;34m\u001b[0m\u001b[0m\n",
      "\u001b[0;32m~/opt/anaconda3/lib/python3.8/site-packages/scipy/interpolate/fitpack2.py\u001b[0m in \u001b[0;36m__init__\u001b[0;34m(self, x, y, w, bbox, k, ext, check_finite)\u001b[0m\n\u001b[1;32m    657\u001b[0m                  ext=0, check_finite=False):\n\u001b[1;32m    658\u001b[0m \u001b[0;34m\u001b[0m\u001b[0m\n\u001b[0;32m--> 659\u001b[0;31m         x, y, w, bbox, self.ext = self.validate_input(x, y, w, bbox, k, None,\n\u001b[0m\u001b[1;32m    660\u001b[0m                                             ext, check_finite)\n\u001b[1;32m    661\u001b[0m         \u001b[0;32mif\u001b[0m \u001b[0;32mnot\u001b[0m \u001b[0mnp\u001b[0m\u001b[0;34m.\u001b[0m\u001b[0mall\u001b[0m\u001b[0;34m(\u001b[0m\u001b[0mdiff\u001b[0m\u001b[0;34m(\u001b[0m\u001b[0mx\u001b[0m\u001b[0;34m)\u001b[0m \u001b[0;34m>\u001b[0m \u001b[0;36m0.0\u001b[0m\u001b[0;34m)\u001b[0m\u001b[0;34m:\u001b[0m\u001b[0;34m\u001b[0m\u001b[0;34m\u001b[0m\u001b[0m\n",
      "\u001b[0;32m~/opt/anaconda3/lib/python3.8/site-packages/scipy/interpolate/fitpack2.py\u001b[0m in \u001b[0;36mvalidate_input\u001b[0;34m(x, y, w, bbox, k, s, ext, check_finite)\u001b[0m\n\u001b[1;32m    221\u001b[0m         \u001b[0;32mif\u001b[0m \u001b[0ms\u001b[0m \u001b[0;32mis\u001b[0m \u001b[0;32mNone\u001b[0m \u001b[0;32mor\u001b[0m \u001b[0ms\u001b[0m \u001b[0;34m>\u001b[0m \u001b[0;36m0\u001b[0m\u001b[0;34m:\u001b[0m\u001b[0;34m\u001b[0m\u001b[0;34m\u001b[0m\u001b[0m\n\u001b[1;32m    222\u001b[0m             \u001b[0;32mif\u001b[0m \u001b[0;32mnot\u001b[0m \u001b[0mnp\u001b[0m\u001b[0;34m.\u001b[0m\u001b[0mall\u001b[0m\u001b[0;34m(\u001b[0m\u001b[0mdiff\u001b[0m\u001b[0;34m(\u001b[0m\u001b[0mx\u001b[0m\u001b[0;34m)\u001b[0m \u001b[0;34m>=\u001b[0m \u001b[0;36m0.0\u001b[0m\u001b[0;34m)\u001b[0m\u001b[0;34m:\u001b[0m\u001b[0;34m\u001b[0m\u001b[0;34m\u001b[0m\u001b[0m\n\u001b[0;32m--> 223\u001b[0;31m                 \u001b[0;32mraise\u001b[0m \u001b[0mValueError\u001b[0m\u001b[0;34m(\u001b[0m\u001b[0;34m\"x must be increasing if s > 0\"\u001b[0m\u001b[0;34m)\u001b[0m\u001b[0;34m\u001b[0m\u001b[0;34m\u001b[0m\u001b[0m\n\u001b[0m\u001b[1;32m    224\u001b[0m         \u001b[0;32melse\u001b[0m\u001b[0;34m:\u001b[0m\u001b[0;34m\u001b[0m\u001b[0;34m\u001b[0m\u001b[0m\n\u001b[1;32m    225\u001b[0m             \u001b[0;32mif\u001b[0m \u001b[0;32mnot\u001b[0m \u001b[0mnp\u001b[0m\u001b[0;34m.\u001b[0m\u001b[0mall\u001b[0m\u001b[0;34m(\u001b[0m\u001b[0mdiff\u001b[0m\u001b[0;34m(\u001b[0m\u001b[0mx\u001b[0m\u001b[0;34m)\u001b[0m \u001b[0;34m>\u001b[0m \u001b[0;36m0.0\u001b[0m\u001b[0;34m)\u001b[0m\u001b[0;34m:\u001b[0m\u001b[0;34m\u001b[0m\u001b[0;34m\u001b[0m\u001b[0m\n",
      "\u001b[0;31mValueError\u001b[0m: x must be increasing if s > 0"
     ]
    }
   ],
   "source": [
    "#iterate 5 times with mins value point of each curvle\n",
    "x_cycle = []\n",
    "y_cycle = []\n",
    "x_loop = x_random\n",
    "y_loop = y_random\n",
    "list_x_loop = x_loop.tolist()\n",
    "list_y_loop = y_loop.tolist()\n",
    "i=0\n",
    "while i <5:\n",
    "    #get the function of spline regression with known data points\n",
    "    s = interpolate.InterpolatedUnivariateSpline(list_x_loop,list_y_loop)\n",
    "    x_uni = np.arange(0,5000,1)\n",
    "    y_uni = s(x_uni) # get all the y value  (0~5000) based on the regession function\n",
    "    list_y_uni = y_uni .tolist()\n",
    "    list_y_uni_max_list = min(list_y_uni) #get the maxium value\n",
    "    index = list_y_uni.index(min(list_y_uni)) # get the index of maxium value\n",
    "    # add the min value of the function to the next loop list\n",
    "    x_cycle.append(x_normal[index]) \n",
    "    y_cycle.append(y_normal[index])\n",
    "    list_x_loop.extend(x_cycle)\n",
    "    list_y_loop.extend(y_cycle)\n",
    "    i += 1"
   ]
  }
 ],
 "metadata": {
  "kernelspec": {
   "display_name": "Python 3",
   "language": "python",
   "name": "python3"
  },
  "language_info": {
   "codemirror_mode": {
    "name": "ipython",
    "version": 3
   },
   "file_extension": ".py",
   "mimetype": "text/x-python",
   "name": "python",
   "nbconvert_exporter": "python",
   "pygments_lexer": "ipython3",
   "version": "3.8.10"
  }
 },
 "nbformat": 4,
 "nbformat_minor": 5
}
