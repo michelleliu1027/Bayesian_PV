{
 "cells": [
  {
   "cell_type": "code",
   "execution_count": 99,
   "id": "11fcc5a0",
   "metadata": {},
   "outputs": [],
   "source": [
    "from spglm.glm import GLM\n",
    "import numpy as np \n",
    "import pandas as pd"
   ]
  },
  {
   "cell_type": "code",
   "execution_count": 107,
   "id": "4d7956b0",
   "metadata": {},
   "outputs": [],
   "source": [
    "#Load datasheet \n",
    "address = 'data/degradation.xlsx'\n",
    "x = []\n",
    "y = []\n",
    "df = pd.read_excel(address,sheet_name = 'C1',usecols = [0],names = None)\n",
    "df_li_Time = df.values.tolist()\n",
    "df = pd.read_excel(address,sheet_name = 'C1',usecols = [1],names = None)\n",
    "df_li_L = df.values.tolist()\n"
   ]
  },
  {
   "cell_type": "code",
   "execution_count": 108,
   "id": "967692eb",
   "metadata": {},
   "outputs": [],
   "source": [
    "#Set dependent variable\n",
    "for s_li in df_li_Time:\n",
    "    x.append(s_li[0])\n",
    "x = np.array([x]).T\n",
    "\n",
    "#Set indepdent varibles\n",
    "for a_li in df_li_L:\n",
    "    y.append(a_li[0])\n",
    "    \n",
    "y = np.array([y]).T"
   ]
  },
  {
   "cell_type": "code",
   "execution_count": 109,
   "id": "98930004",
   "metadata": {},
   "outputs": [
    {
     "name": "stdout",
     "output_type": "stream",
     "text": [
      "[ 7.35560629e-01 -6.00171412e-07]\n",
      "[1855.01290181   -4.58257414]\n",
      "-71.52242499340407\n",
      "[3.96525883e-04 1.30968184e-07]\n"
     ]
    }
   ],
   "source": [
    "#model of x\n",
    "model = GLM(y, x)\n",
    "results = model.fit()\n",
    "print(results.params)\n",
    "print(results.tvalues)\n",
    "print(results.aic)\n",
    "print(results.bse)"
   ]
  },
  {
   "cell_type": "code",
   "execution_count": 110,
   "id": "91b904e4",
   "metadata": {},
   "outputs": [
    {
     "name": "stdout",
     "output_type": "stream",
     "text": [
      "[ 7.36058072e-01 -2.99565471e-04]\n",
      "[727.60693572  -2.13336455]\n",
      "-65.08563429724074\n",
      "[0.00101161 0.00014042]\n"
     ]
    }
   ],
   "source": [
    "#model of lg(x)\n",
    "x_log = np.log(x)\n",
    "\n",
    "model_log = GLM(y,x_log)\n",
    "results = model_log.fit()\n",
    "print(results.params)\n",
    "print(results.tvalues)\n",
    "print(results.aic)\n",
    "print(results.bse)"
   ]
  },
  {
   "cell_type": "code",
   "execution_count": 111,
   "id": "5c5e6200",
   "metadata": {},
   "outputs": [
    {
     "name": "stdout",
     "output_type": "stream",
     "text": [
      "[ 7.35034904e-01 -1.06353110e-10]\n",
      "[1718.65133295   -3.17647713]\n",
      "-68.08196838320829\n",
      "[4.27681223e-04 3.34814658e-11]\n"
     ]
    }
   ],
   "source": [
    "#model of X^2\n",
    "x_square = np.square(x)\n",
    "model_square = GLM(y,x_square)\n",
    "results = model_square.fit()\n",
    "print(results.params)\n",
    "print(results.tvalues)\n",
    "print(results.aic)\n",
    "print(results.bse)"
   ]
  },
  {
   "cell_type": "code",
   "execution_count": null,
   "id": "0f5502f4",
   "metadata": {},
   "outputs": [],
   "source": []
  }
 ],
 "metadata": {
  "kernelspec": {
   "display_name": "Python 3",
   "language": "python",
   "name": "python3"
  },
  "language_info": {
   "codemirror_mode": {
    "name": "ipython",
    "version": 3
   },
   "file_extension": ".py",
   "mimetype": "text/x-python",
   "name": "python",
   "nbconvert_exporter": "python",
   "pygments_lexer": "ipython3",
   "version": "3.8.10"
  }
 },
 "nbformat": 4,
 "nbformat_minor": 5
}
