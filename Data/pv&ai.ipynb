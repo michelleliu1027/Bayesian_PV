{
 "cells": [
  {
   "cell_type": "code",
   "execution_count": 1,
   "metadata": {},
   "outputs": [
    {
     "name": "stdout",
     "output_type": "stream",
     "text": [
      "Requirement already satisfied: xlrd in c:\\programdata\\anaconda3\\lib\\site-packages (2.0.1)\n",
      "Requirement already satisfied: openpyxl in c:\\programdata\\anaconda3\\lib\\site-packages (3.0.7)\n",
      "Requirement already satisfied: et-xmlfile in c:\\programdata\\anaconda3\\lib\\site-packages (from openpyxl) (1.0.1)\n"
     ]
    }
   ],
   "source": [
    "import pandas as pd\r\n",
    "!pip3 install xlrd\r\n",
    "!pip3 install openpyxl"
   ]
  },
  {
   "cell_type": "code",
   "execution_count": 5,
   "metadata": {},
   "outputs": [],
   "source": [
    "thickness_lst = []\r\n",
    "wtw_thickness = []\r\n",
    "refractive_lst = []\r\n",
    "wtw_refractive = []\r\n",
    "f = pd.ExcelFile('O3 development.xlsx')\r\n",
    "\r\n",
    "for name in f.sheet_names:\r\n",
    "    if name == 'DOE':\r\n",
    "        doe = pd.read_excel('O3 development.xlsx', engine='openpyxl',sheet_name = 'DOE')\r\n",
    "        doe = doe[doe.columns[-6::]]\r\n",
    "        doe.columns = [['Ar (sccm)', 'O3 (sccm)', 'Turn on (s) TMA', 'Turn off (s) TMA','Turn off (s) Ozone','Turn off (s) Ozone']]\r\n",
    "        doe = doe[1:]\r\n",
    "        doe.index = ['Run{}'.format(x) for x in range(15,23)]\r\n",
    "    else:\r\n",
    "        cur_sheet = pd.read_excel('O3 development.xlsx', engine='openpyxl',sheet_name = name)\r\n",
    "        needed_cols = ['Unnamed: {}'.format(x) for x in range(2,13)]\r\n",
    "        thickness = cur_sheet[needed_cols][2:26].reset_index(drop = True)\r\n",
    "        thickness.columns = ['SE testing point:{}'.format(x) for x in range(1, 10)]+['Avg', 'WIW']\r\n",
    "        thickness_lst.append(thickness)\r\n",
    "        \r\n",
    "        refractive = cur_sheet[needed_cols][30::].reset_index(drop = True)\r\n",
    "        refractive.columns = ['SE testing point:{}'.format(x) for x in range(1, 10)] + ['Avg','WIW']\r\n",
    "        refractive_lst.append(refractive)\r\n",
    "        \r\n",
    "        wtw_thickness.append(cur_sheet['Unnamed: 13'].iloc[2])\r\n",
    "        wtw_refractive.append(cur_sheet['Unnamed: 13'].iloc[30])\r\n",
    "        "
   ]
  },
  {
   "cell_type": "code",
   "execution_count": 7,
   "metadata": {},
   "outputs": [
    {
     "data": {
      "text/plain": [
       "[0.01, 0.01, 0.0037, 0.0069, 0.0047, 0.0042, 0.0055, 0.0035]"
      ]
     },
     "execution_count": 7,
     "metadata": {},
     "output_type": "execute_result"
    }
   ],
   "source": [
    "thickness_lst ## contains 8 dataframe for thickness, the first one is run15, second one is run16...\n",
    "refractive_lst## contains 8 dataframe for refractive, the first one is run15, second one is run16...\n",
    "doe\n",
    "wtw_thickness ## contains 8 numbers for wtw of thickness, the first one is wtw for run15,...\n",
    "wtw_refractive## contains 8 numbers for wtw of refractive, the first one is wtw for run15,..."
   ]
  }
 ],
 "metadata": {
  "interpreter": {
   "hash": "b3ba2566441a7c06988d0923437866b63cedc61552a5af99d1f4fb67d367b25f"
  },
  "kernelspec": {
   "display_name": "Python 3.8.8 64-bit ('base': conda)",
   "name": "python3"
  },
  "language_info": {
   "codemirror_mode": {
    "name": "ipython",
    "version": 3
   },
   "file_extension": ".py",
   "mimetype": "text/x-python",
   "name": "python",
   "nbconvert_exporter": "python",
   "pygments_lexer": "ipython3",
   "version": "3.8.8"
  }
 },
 "nbformat": 4,
 "nbformat_minor": 4
}