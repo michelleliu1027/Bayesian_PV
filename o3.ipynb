{
 "cells": [
  {
   "cell_type": "code",
   "execution_count": 11,
   "metadata": {},
   "outputs": [],
   "source": [
    "import numpy as np\r\n",
    "import pandas as pd\r\n",
    "from matplotlib import pyplot as plt\r\n",
    "from sklearn.gaussian_process import GaussianProcessRegressor\r\n",
    "from sklearn.gaussian_process.kernels import RBF, ConstantKernel as C, WhiteKernel\r\n",
    "from sklearn.metrics import mean_squared_error\r\n"
   ]
  },
  {
   "cell_type": "code",
   "execution_count": 12,
   "metadata": {},
   "outputs": [],
   "source": [
    "\r\n",
    "thickness_lst = []\r\n",
    "wtw_thickness = []\r\n",
    "refractive_lst = []\r\n",
    "wtw_refractive = []\r\n",
    "f = pd.ExcelFile('Data/O3 development.xlsx')\r\n",
    "\r\n",
    "for name in f.sheet_names:\r\n",
    "    if name == 'DOE':\r\n",
    "        doe = pd.read_excel('Data/O3 development.xlsx', engine='openpyxl',sheet_name = 'DOE')\r\n",
    "        doe = doe[doe.columns[-6::]]\r\n",
    "        doe.columns = [['Ar (sccm)', 'O3 (sccm)', 'Turn on (s) TMA', 'Turn off (s) TMA','Turn off (s) Ozone','Turn off (s) Ozone']]\r\n",
    "        doe = doe[1:]\r\n",
    "        doe.index = ['Run{}'.format(x) for x in range(15,23)]\r\n",
    "    else:\r\n",
    "        cur_sheet = pd.read_excel('Data/O3 development.xlsx', engine='openpyxl',sheet_name = name)\r\n",
    "        needed_cols = ['Unnamed: {}'.format(x) for x in range(2,13)]\r\n",
    "        thickness = cur_sheet[needed_cols][2:26].reset_index(drop = True)\r\n",
    "        thickness.columns = ['SE testing point:{}'.format(x) for x in range(1, 10)]+['Avg', 'WIW']\r\n",
    "        thickness_lst.append(thickness)\r\n",
    "        \r\n",
    "        refractive = cur_sheet[needed_cols][30::].reset_index(drop = True)\r\n",
    "        refractive.columns = ['SE testing point:{}'.format(x) for x in range(1, 10)] + ['Avg','WIW']\r\n",
    "        refractive_lst.append(refractive)\r\n",
    "        \r\n",
    "        wtw_thickness.append(cur_sheet['Unnamed: 13'].iloc[2])\r\n",
    "        wtw_refractive.append(cur_sheet['Unnamed: 13'].iloc[30])"
   ]
  },
  {
   "cell_type": "code",
   "execution_count": 13,
   "metadata": {},
   "outputs": [],
   "source": [
    "para = doe.to_numpy()\r\n",
    "# rf = np.array(refractive_lst)\r\n",
    "rf_wtw = np.array(wtw_refractive)\r\n",
    "# tk = np.array(thickness_lst)\r\n",
    "tk_wtw = np.array(wtw_thickness)"
   ]
  },
  {
   "cell_type": "code",
   "execution_count": 15,
   "metadata": {},
   "outputs": [],
   "source": [
    "### Data setup \r\n",
    "NUM_OF_DATA_POINTS = 20\r\n",
    "NUM_OF_PLOT_POINTS = 100\r\n",
    "# gp settings \r\n",
    "NOISE_LEVEL = 1e-5\r\n",
    "\r\n",
    "kernel = 1.0 * RBF(length_scale=5) + WhiteKernel(noise_level=NOISE_LEVEL)\r\n",
    "gp = GaussianProcessRegressor(kernel=kernel, alpha=1e-8)"
   ]
  },
  {
   "cell_type": "code",
   "execution_count": 26,
   "metadata": {},
   "outputs": [],
   "source": [
    "X = para \r\n",
    "Y = np.array([tk_wtw,rf_wtw]).reshape(8,2)"
   ]
  },
  {
   "cell_type": "code",
   "execution_count": 27,
   "metadata": {},
   "outputs": [
    {
     "name": "stdout",
     "output_type": "stream",
     "text": [
      "Learned kernel 0.0537**2 * RBF(length_scale=783) + WhiteKernel(noise_level=1.96e-05)\n"
     ]
    }
   ],
   "source": [
    "#### Kernel setting and prediction\r\n",
    "gp.fit(X, Y)\r\n",
    "print(\"Learned kernel\", gp.kernel_)"
   ]
  },
  {
   "cell_type": "code",
   "execution_count": 57,
   "metadata": {},
   "outputs": [
    {
     "name": "stdout",
     "output_type": "stream",
     "text": [
      "WIW:thickness [0.00257006], n [0.00069536]\n"
     ]
    }
   ],
   "source": [
    "para_ar = 2500\r\n",
    "para_o3 = 3300\r\n",
    "para_TMA_on = 5\r\n",
    "para_TMA_off = 7\r\n",
    "para_Ozone_on = 7\r\n",
    "para_Ozone_off = 8\r\n",
    "X_predict = np.array([para_ar,para_o3,para_TMA_on,para_TMA_off,\r\n",
    "                        para_Ozone_on, para_Ozone_off]).reshape(1,6)\r\n",
    "\r\n",
    "Y_predict = gp.predict(X_predict)\r\n",
    "print('WIW:thickness %s, n %s'%(Y_predict[:,0],Y_predict[:,1]))"
   ]
  }
 ],
 "metadata": {
  "interpreter": {
   "hash": "b3ba2566441a7c06988d0923437866b63cedc61552a5af99d1f4fb67d367b25f"
  },
  "kernelspec": {
   "display_name": "Python 3.8.8 64-bit ('base': conda)",
   "name": "python3"
  },
  "language_info": {
   "codemirror_mode": {
    "name": "ipython",
    "version": 3
   },
   "file_extension": ".py",
   "mimetype": "text/x-python",
   "name": "python",
   "nbconvert_exporter": "python",
   "pygments_lexer": "ipython3",
   "version": "3.8.8"
  },
  "orig_nbformat": 4
 },
 "nbformat": 4,
 "nbformat_minor": 2
}