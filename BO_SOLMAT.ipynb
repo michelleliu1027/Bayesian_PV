{
 "cells": [
  {
   "cell_type": "code",
   "execution_count": 1,
   "metadata": {},
   "outputs": [],
   "source": [
    "import numpy as np\n",
    "import pandas as pd\n",
    "from matplotlib import pyplot as plt\n",
    "from sklearn.gaussian_process import GaussianProcessRegressor\n",
    "from sklearn.gaussian_process.kernels import RBF, ConstantKernel as C, WhiteKernel, Matern, RationalQuadratic, ExpSineSquared, DotProduct\n",
    "from sklearn.metrics import mean_squared_error\n",
    "from sklearn.model_selection import cross_val_score\n",
    "from sklearn.model_selection import cross_validate\n",
    "from matplotlib import pyplot as plt\n",
    "from sklearn.model_selection import GridSearchCV\n",
    "from sklearn.metrics import mean_squared_error\n",
    "from sklearn.metrics import make_scorer\n",
    "import warnings\n",
    "import pickle\n",
    "import itertools\n",
    "warnings.filterwarnings(\"ignore\")\n"
   ]
  },
  {
   "cell_type": "code",
   "execution_count": 2,
   "metadata": {},
   "outputs": [],
   "source": [
    "# Import data from 'Data/DATA_SOLMAT.xlsx'\n",
    "doe = np.array(pd.read_excel('Data/DATA_SOLMAT.xlsx', engine='openpyxl',sheet_name = 'Normalized_table'))\n",
    "data_exp = np.array(doe[:10])\n",
    "X_exp = data_exp[:,:7]\n",
    "Y_exp = data_exp[:,8:]"
   ]
  },
  {
   "cell_type": "code",
   "execution_count": 3,
   "metadata": {},
   "outputs": [],
   "source": [
    "class GPUCB():\n",
    "\n",
    "    def __init__(self, meshgrid, X, Y, beta=100.,delta = 0.1, dim = 2, pre_defined_gp = None):\n",
    "        '''\n",
    "        meshgrid: Output from np.methgrid.\n",
    "        e.g. np.meshgrid(np.arange(-1, 1, 0.1), np.arange(-1, 1, 0.1)) for 2D space\n",
    "        with |x_i| < 1 constraint.\n",
    "        beta (optional): Hyper-parameter to tune the exploration-exploitation\n",
    "        balance. If beta is large, it emphasizes the variance of the unexplored\n",
    "        solution solution (i.e. larger curiosity)\n",
    "        '''\n",
    "        # 参考 https://github.com/tushuhei/gpucb/blob/master/gpucb.py        \n",
    "        self.meshgrid = np.array(meshgrid)\n",
    "        self.experimen_result= Y\n",
    "        self.beta = beta\n",
    "        self.iteration = 1\n",
    "        self.dim = dim\n",
    "        self.delta = delta\n",
    "        self.acquired_pts = []\n",
    "        self.x_only = []\n",
    "        self.y_only = []  # for plotting\n",
    "        if pre_defined_gp:\n",
    "            self.gp = pre_defined_gp\n",
    "        else:\n",
    "            self.gp = GaussianProcessRegressor()\n",
    "        self.X_grid = self.meshgrid.reshape(self.meshgrid.shape[0], -1).T\n",
    "        self.mu, self.sigma = self.gp.predict(self.X_grid, return_std=True)\n",
    "        self.X = []\n",
    "        self.T = []\n",
    "        \n",
    "    def argmax_ucb(self):\n",
    "        res = np.argmax(self.mu + self.sigma * np.sqrt(self.beta))\n",
    "        return res\n",
    "\n",
    "    def learn(self):\n",
    "        print(\"shape of X_grid\",self.X_grid.shape)\n",
    "        self.beta = 2*np.log(self.X_grid.shape[1]*(self.iteration**2)*(np.pi**2)/(6*self.delta))\n",
    "        grid_idx = self.argmax_ucb()\n",
    "        self.sample(self.X_grid[grid_idx])\n",
    "        self.gp.fit(self.X, self.T)\n",
    "        self.mu, self.sigma = self.gp.predict(self.X_grid, return_std=True)\n",
    "        self.iteration += 1    \n",
    "    \n",
    "    def sample(self, x):\n",
    "        print(\"acquired point: \", x)\n",
    "        t = self.experimen_result[tuple(x)]\n",
    "        self.acquired_pts.append((x,t))\n",
    "        self.y_only.append(t)\n",
    "        self.x_only.append(x)\n",
    "        self.X.append(x)\n",
    "        self.T.append(t)"
   ]
  },
  {
   "cell_type": "code",
   "execution_count": 4,
   "metadata": {},
   "outputs": [
    {
     "name": "stdout",
     "output_type": "stream",
     "text": [
      "The size of search space is:  3064320\n",
      "shape of X_grid (3064320, 7)\n",
      "acquired point:  [0.6        0.54545455 0.27777778 0.44444444 0.28571429 0.33333333\n",
      " 0.33333333]\n"
     ]
    },
    {
     "ename": "KeyError",
     "evalue": "(0.6000000000000001, 0.5454545454545454, 0.2777777777777778, 0.4444444444444444, 0.2857142857142857, 0.3333333333333333, 0.3333333333333333)",
     "output_type": "error",
     "traceback": [
      "\u001b[1;31m---------------------------------------------------------------------------\u001b[0m",
      "\u001b[1;31mKeyError\u001b[0m                                  Traceback (most recent call last)",
      "\u001b[1;32m<ipython-input-4-f596db62f459>\u001b[0m in \u001b[0;36m<module>\u001b[1;34m\u001b[0m\n\u001b[0;32m     21\u001b[0m test = GPUCB(search_space, X_exp, lookup, beta=0,delta = 0.01, dim = 7, \n\u001b[0;32m     22\u001b[0m              pre_defined_gp = gp)\n\u001b[1;32m---> 23\u001b[1;33m \u001b[0mtest\u001b[0m\u001b[1;33m.\u001b[0m\u001b[0mlearn\u001b[0m\u001b[1;33m(\u001b[0m\u001b[1;33m)\u001b[0m\u001b[1;33m\u001b[0m\u001b[1;33m\u001b[0m\u001b[0m\n\u001b[0m",
      "\u001b[1;32m<ipython-input-3-d176ca205ec2>\u001b[0m in \u001b[0;36mlearn\u001b[1;34m(self)\u001b[0m\n\u001b[0;32m     37\u001b[0m         \u001b[0mself\u001b[0m\u001b[1;33m.\u001b[0m\u001b[0mbeta\u001b[0m \u001b[1;33m=\u001b[0m \u001b[1;36m2\u001b[0m\u001b[1;33m*\u001b[0m\u001b[0mnp\u001b[0m\u001b[1;33m.\u001b[0m\u001b[0mlog\u001b[0m\u001b[1;33m(\u001b[0m\u001b[0mself\u001b[0m\u001b[1;33m.\u001b[0m\u001b[0mX_grid\u001b[0m\u001b[1;33m.\u001b[0m\u001b[0mshape\u001b[0m\u001b[1;33m[\u001b[0m\u001b[1;36m1\u001b[0m\u001b[1;33m]\u001b[0m\u001b[1;33m*\u001b[0m\u001b[1;33m(\u001b[0m\u001b[0mself\u001b[0m\u001b[1;33m.\u001b[0m\u001b[0miteration\u001b[0m\u001b[1;33m**\u001b[0m\u001b[1;36m2\u001b[0m\u001b[1;33m)\u001b[0m\u001b[1;33m*\u001b[0m\u001b[1;33m(\u001b[0m\u001b[0mnp\u001b[0m\u001b[1;33m.\u001b[0m\u001b[0mpi\u001b[0m\u001b[1;33m**\u001b[0m\u001b[1;36m2\u001b[0m\u001b[1;33m)\u001b[0m\u001b[1;33m/\u001b[0m\u001b[1;33m(\u001b[0m\u001b[1;36m6\u001b[0m\u001b[1;33m*\u001b[0m\u001b[0mself\u001b[0m\u001b[1;33m.\u001b[0m\u001b[0mdelta\u001b[0m\u001b[1;33m)\u001b[0m\u001b[1;33m)\u001b[0m\u001b[1;33m\u001b[0m\u001b[1;33m\u001b[0m\u001b[0m\n\u001b[0;32m     38\u001b[0m         \u001b[0mgrid_idx\u001b[0m \u001b[1;33m=\u001b[0m \u001b[0mself\u001b[0m\u001b[1;33m.\u001b[0m\u001b[0margmax_ucb\u001b[0m\u001b[1;33m(\u001b[0m\u001b[1;33m)\u001b[0m\u001b[1;33m\u001b[0m\u001b[1;33m\u001b[0m\u001b[0m\n\u001b[1;32m---> 39\u001b[1;33m         \u001b[0mself\u001b[0m\u001b[1;33m.\u001b[0m\u001b[0msample\u001b[0m\u001b[1;33m(\u001b[0m\u001b[0mself\u001b[0m\u001b[1;33m.\u001b[0m\u001b[0mX_grid\u001b[0m\u001b[1;33m[\u001b[0m\u001b[0mgrid_idx\u001b[0m\u001b[1;33m]\u001b[0m\u001b[1;33m)\u001b[0m\u001b[1;33m\u001b[0m\u001b[1;33m\u001b[0m\u001b[0m\n\u001b[0m\u001b[0;32m     40\u001b[0m         \u001b[0mself\u001b[0m\u001b[1;33m.\u001b[0m\u001b[0mgp\u001b[0m\u001b[1;33m.\u001b[0m\u001b[0mfit\u001b[0m\u001b[1;33m(\u001b[0m\u001b[0mself\u001b[0m\u001b[1;33m.\u001b[0m\u001b[0mX\u001b[0m\u001b[1;33m,\u001b[0m \u001b[0mself\u001b[0m\u001b[1;33m.\u001b[0m\u001b[0mT\u001b[0m\u001b[1;33m)\u001b[0m\u001b[1;33m\u001b[0m\u001b[1;33m\u001b[0m\u001b[0m\n\u001b[0;32m     41\u001b[0m         \u001b[0mself\u001b[0m\u001b[1;33m.\u001b[0m\u001b[0mmu\u001b[0m\u001b[1;33m,\u001b[0m \u001b[0mself\u001b[0m\u001b[1;33m.\u001b[0m\u001b[0msigma\u001b[0m \u001b[1;33m=\u001b[0m \u001b[0mself\u001b[0m\u001b[1;33m.\u001b[0m\u001b[0mgp\u001b[0m\u001b[1;33m.\u001b[0m\u001b[0mpredict\u001b[0m\u001b[1;33m(\u001b[0m\u001b[0mself\u001b[0m\u001b[1;33m.\u001b[0m\u001b[0mX_grid\u001b[0m\u001b[1;33m,\u001b[0m \u001b[0mreturn_std\u001b[0m\u001b[1;33m=\u001b[0m\u001b[1;32mTrue\u001b[0m\u001b[1;33m)\u001b[0m\u001b[1;33m\u001b[0m\u001b[1;33m\u001b[0m\u001b[0m\n",
      "\u001b[1;32m<ipython-input-3-d176ca205ec2>\u001b[0m in \u001b[0;36msample\u001b[1;34m(self, x)\u001b[0m\n\u001b[0;32m     44\u001b[0m     \u001b[1;32mdef\u001b[0m \u001b[0msample\u001b[0m\u001b[1;33m(\u001b[0m\u001b[0mself\u001b[0m\u001b[1;33m,\u001b[0m \u001b[0mx\u001b[0m\u001b[1;33m)\u001b[0m\u001b[1;33m:\u001b[0m\u001b[1;33m\u001b[0m\u001b[1;33m\u001b[0m\u001b[0m\n\u001b[0;32m     45\u001b[0m         \u001b[0mprint\u001b[0m\u001b[1;33m(\u001b[0m\u001b[1;34m\"acquired point: \"\u001b[0m\u001b[1;33m,\u001b[0m \u001b[0mx\u001b[0m\u001b[1;33m)\u001b[0m\u001b[1;33m\u001b[0m\u001b[1;33m\u001b[0m\u001b[0m\n\u001b[1;32m---> 46\u001b[1;33m         \u001b[0mt\u001b[0m \u001b[1;33m=\u001b[0m \u001b[0mself\u001b[0m\u001b[1;33m.\u001b[0m\u001b[0mexperimen_result\u001b[0m\u001b[1;33m[\u001b[0m\u001b[0mtuple\u001b[0m\u001b[1;33m(\u001b[0m\u001b[0mx\u001b[0m\u001b[1;33m)\u001b[0m\u001b[1;33m]\u001b[0m\u001b[1;33m\u001b[0m\u001b[1;33m\u001b[0m\u001b[0m\n\u001b[0m\u001b[0;32m     47\u001b[0m         \u001b[0mself\u001b[0m\u001b[1;33m.\u001b[0m\u001b[0macquired_pts\u001b[0m\u001b[1;33m.\u001b[0m\u001b[0mappend\u001b[0m\u001b[1;33m(\u001b[0m\u001b[1;33m(\u001b[0m\u001b[0mx\u001b[0m\u001b[1;33m,\u001b[0m\u001b[0mt\u001b[0m\u001b[1;33m)\u001b[0m\u001b[1;33m)\u001b[0m\u001b[1;33m\u001b[0m\u001b[1;33m\u001b[0m\u001b[0m\n\u001b[0;32m     48\u001b[0m         \u001b[0mself\u001b[0m\u001b[1;33m.\u001b[0m\u001b[0my_only\u001b[0m\u001b[1;33m.\u001b[0m\u001b[0mappend\u001b[0m\u001b[1;33m(\u001b[0m\u001b[0mt\u001b[0m\u001b[1;33m)\u001b[0m\u001b[1;33m\u001b[0m\u001b[1;33m\u001b[0m\u001b[0m\n",
      "\u001b[1;31mKeyError\u001b[0m: (0.6000000000000001, 0.5454545454545454, 0.2777777777777778, 0.4444444444444444, 0.2857142857142857, 0.3333333333333333, 0.3333333333333333)"
     ]
    }
   ],
   "source": [
    "# temp 0-1 interval 0.2\n",
    "# time interval 1/11\n",
    "# pressure 1/18\n",
    "# flow rate 1/9\n",
    "# power 1/7\n",
    "# distance 1/6\n",
    "# ald_cycles 1/3\n",
    "gp = GaussianProcessRegressor()\n",
    "search_space = np.meshgrid(np.arange(0,1.01,0.2),np.arange(0,1.01,1/11),\n",
    "                           np.arange(0,1.0001,1/18), np.arange(0,1.0001,1/9),\n",
    "                           np.arange(0,1.0001,1/7), np.arange(0,1.0001,1/6),\n",
    "                           np.arange(0,1.0001,1/3)\n",
    "                          )\n",
    "max_Y = np.max(Y_exp,axis=1)\n",
    "gp.fit(X_exp,max_Y)\n",
    "lookup = {tuple(X_exp[i]):Y_exp[i] for i in range(len(X_exp))}\n",
    "print(\"The size of search space is: \", np.product([len(i) for i in [np.arange(0,1.01,0.2),np.arange(0,1.01,1/11),\n",
    "                           np.arange(0,1.0001,1/18), np.arange(0,1.0001,1/9),\n",
    "                           np.arange(0,1.0001,1/7), np.arange(0,1.0001,1/6),\n",
    "                           np.arange(0,1.0001,1/3)]]))\n",
    "test = GPUCB(search_space, X_exp, lookup, beta=0,delta = 0.01, dim = 7, \n",
    "             pre_defined_gp = gp)\n",
    "test.learn()\n"
   ]
  },
  {
   "cell_type": "code",
   "execution_count": null,
   "metadata": {},
   "outputs": [],
   "source": []
  },
  {
   "cell_type": "code",
   "execution_count": null,
   "metadata": {},
   "outputs": [],
   "source": [
    "np.arange(0,1.01,1/11)"
   ]
  },
  {
   "cell_type": "code",
   "execution_count": null,
   "metadata": {},
   "outputs": [],
   "source": [
    "Y_exp"
   ]
  },
  {
   "cell_type": "markdown",
   "metadata": {},
   "source": []
  }
 ],
 "metadata": {
  "interpreter": {
   "hash": "b3ba2566441a7c06988d0923437866b63cedc61552a5af99d1f4fb67d367b25f"
  },
  "kernelspec": {
   "display_name": "Python 3",
   "language": "python",
   "name": "python3"
  },
  "language_info": {
   "codemirror_mode": {
    "name": "ipython",
    "version": 3
   },
   "file_extension": ".py",
   "mimetype": "text/x-python",
   "name": "python",
   "nbconvert_exporter": "python",
   "pygments_lexer": "ipython3",
   "version": "3.8.8"
  }
 },
 "nbformat": 4,
 "nbformat_minor": 2
}
