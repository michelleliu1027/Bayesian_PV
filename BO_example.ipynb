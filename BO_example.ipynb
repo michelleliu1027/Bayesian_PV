{
 "cells": [
  {
   "cell_type": "code",
   "execution_count": 4,
   "id": "2b3ae511",
   "metadata": {},
   "outputs": [],
   "source": [
    "import numpy as np\n",
    "import matplotlib.pyplot as plt\n",
    "import torch\n",
    "import pandas as pd\n",
    "%matplotlib inline\n",
    "\n",
    "device = torch.device(\"cuda\" if torch.cuda.is_available() else \"cpu\")"
   ]
  },
  {
   "cell_type": "code",
   "execution_count": 12,
   "id": "948548d7",
   "metadata": {},
   "outputs": [],
   "source": [
    "address = 'data/Data_SOLMAT.xlsx'\n",
    "x = []\n",
    "y = []\n",
    "df = pd.read_excel(address,sheet_name = 'Normalized_table',usecols = [0],names = None)\n",
    "df_li_Time = df.values.tolist()\n",
    "df = pd.read_excel(address,sheet_name = 'Normalized_table',usecols = [1],names = None)\n",
    "df_li_L = df.values.tolist()"
   ]
  },
  {
   "cell_type": "code",
   "execution_count": 13,
   "id": "7cc3cb3a",
   "metadata": {},
   "outputs": [
    {
     "name": "stdout",
     "output_type": "stream",
     "text": [
      "[[0.2]\n",
      " [0.6]\n",
      " [1. ]\n",
      " [0. ]\n",
      " [0.4]\n",
      " [0.8]\n",
      " [0.6]\n",
      " [1. ]\n",
      " [0.4]\n",
      " [0.8]] [[0.18181818]\n",
      " [0.09090909]\n",
      " [0.63636364]\n",
      " [0.45454545]\n",
      " [0.36363636]\n",
      " [0.27272727]\n",
      " [0.27272727]\n",
      " [0.        ]\n",
      " [0.63636364]\n",
      " [0.09090909]]\n"
     ]
    }
   ],
   "source": [
    "#Set dependent variable\n",
    "for s_li in df_li_Time:\n",
    "    x.append(s_li[0])\n",
    "x = np.array([x]).T\n",
    "\n",
    "#Set indepdent varibles\n",
    "for a_li in df_li_L:\n",
    "    y.append(a_li[0])\n",
    "    \n",
    "y = np.array([y]).T\n",
    "print(x,y)"
   ]
  },
  {
   "cell_type": "code",
   "execution_count": null,
   "id": "fc0781af",
   "metadata": {},
   "outputs": [],
   "source": []
  }
 ],
 "metadata": {
  "kernelspec": {
   "display_name": "Python 3",
   "language": "python",
   "name": "python3"
  },
  "language_info": {
   "codemirror_mode": {
    "name": "ipython",
    "version": 3
   },
   "file_extension": ".py",
   "mimetype": "text/x-python",
   "name": "python",
   "nbconvert_exporter": "python",
   "pygments_lexer": "ipython3",
   "version": "3.8.10"
  }
 },
 "nbformat": 4,
 "nbformat_minor": 5
}
